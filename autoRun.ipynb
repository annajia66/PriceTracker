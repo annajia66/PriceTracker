{
 "cells": [
  {
   "cell_type": "code",
   "execution_count": null,
   "id": "85709725",
   "metadata": {},
   "outputs": [],
   "source": [
    "import sys\n",
    "import schedule\n",
    "import time\n",
    "from os import system"
   ]
  },
  {
   "cell_type": "code",
   "execution_count": null,
   "id": "22bb6ab5",
   "metadata": {},
   "outputs": [],
   "source": [
    "def job():\n",
    "    print(\"Checking price...\")\n",
    "#     system(\"python3 price_tracker_and_ comparator_1201.py\")\n",
    "\n",
    "schedule.every(3).seconds.do(job)\n",
    "# schedule.every(3).hours.do(job)\n",
    "\n",
    "while True:\n",
    "    schedule.run_pending()\n",
    "    time.sleep(1)"
   ]
  }
 ],
 "metadata": {
  "kernelspec": {
   "display_name": "Python 3 (ipykernel)",
   "language": "python",
   "name": "python3"
  },
  "language_info": {
   "codemirror_mode": {
    "name": "ipython",
    "version": 3
   },
   "file_extension": ".py",
   "mimetype": "text/x-python",
   "name": "python",
   "nbconvert_exporter": "python",
   "pygments_lexer": "ipython3",
   "version": "3.9.13"
  }
 },
 "nbformat": 4,
 "nbformat_minor": 5
}

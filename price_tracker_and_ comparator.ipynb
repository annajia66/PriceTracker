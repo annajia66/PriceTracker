{
 "cells": [
  {
   "cell_type": "code",
   "execution_count": 59,
   "metadata": {
    "pycharm": {
     "name": "#%%\n"
    }
   },
   "outputs": [],
   "source": [
    "import sys\n",
    "# # Use these code if you need to install packages\n",
    "#!{sys.executable} -m pip install schedule\n",
    "#!{sys.executable} -m pip install twilio"
   ]
  },
  {
   "cell_type": "code",
   "execution_count": 60,
   "metadata": {
    "id": "pagv7pyzMq96",
    "pycharm": {
     "name": "#%%\n"
    }
   },
   "outputs": [],
   "source": [
    "import requests\n",
    "from bs4 import BeautifulSoup\n",
    "from twilio.rest import Client\n",
    "from datetime import datetime\n",
    "import matplotlib.pyplot as plt\n",
    "import seaborn as sns\n",
    "import numpy as np\n",
    "import pandas as pd\n",
    "import os"
   ]
  },
  {
   "cell_type": "code",
   "execution_count": 61,
   "metadata": {
    "pycharm": {
     "name": "#%%\n"
    }
   },
   "outputs": [],
   "source": [
    "header = {\n",
    "    'From': 'personal@gmail.com',\n",
    "    \"User-Agent\": \"Mozilla/5.0 (Windows NT 10.0; Win64; x64) AppleWebKit/537.36 (KHTML, like Gecko) Chrome/107.0.0.0 Safari/537.36\",\n",
    "    'Accept': '*/*', 'Accept-Encoding': 'gzip, deflate, br', 'Accept-Language': 'en-GB,en-US;q=0.9,en;q=0.8'\n",
    "}"
   ]
  },
  {
   "cell_type": "code",
   "execution_count": 62,
   "metadata": {
    "pycharm": {
     "name": "#%%\n"
    }
   },
   "outputs": [],
   "source": [
    "# Using different selector at different platform to scrape price\n",
    "def get_price(my_df):\n",
    "\n",
    "    platform = my_df[\"platform\"]\n",
    "    url = my_df[\"url\"]\n",
    "    response = requests.get(url, headers=header)\n",
    "    soup = BeautifulSoup(response.content, 'html.parser')\n",
    "    try:\n",
    "        if platform == 'Amazon':\n",
    "            item_price = \"0\"\n",
    "            \n",
    "        elif platform == 'Gear4':\n",
    "            item_price = soup.select_one(\"span.c-val\").text\n",
    "            \n",
    "        elif platform == 'Thomann':\n",
    "            item_price = soup.select_one(\"div.price-wrapper div.price\").text\n",
    "        \n",
    "        elif platform == 'GuitarCenter':\n",
    "            item_price = soup.select_one(\"div.jsx-3452076525.price-condition\").text     \n",
    "            \n",
    "    except IndexError:\n",
    "            item_price = \"999999999\"\n",
    "\n",
    "    item_price = item_price.replace(',', '').replace('$', '').replace('£', '').replace('.00', '')\n",
    "    return float(item_price)"
   ]
  },
  {
   "cell_type": "code",
   "execution_count": 63,
   "metadata": {
    "pycharm": {
     "name": "#%%\n"
    }
   },
   "outputs": [
    {
     "data": {
      "text/html": [
       "<div>\n",
       "<style scoped>\n",
       "    .dataframe tbody tr th:only-of-type {\n",
       "        vertical-align: middle;\n",
       "    }\n",
       "\n",
       "    .dataframe tbody tr th {\n",
       "        vertical-align: top;\n",
       "    }\n",
       "\n",
       "    .dataframe thead th {\n",
       "        text-align: right;\n",
       "    }\n",
       "</style>\n",
       "<table border=\"1\" class=\"dataframe\">\n",
       "  <thead>\n",
       "    <tr style=\"text-align: right;\">\n",
       "      <th></th>\n",
       "      <th>platform</th>\n",
       "      <th>nickname</th>\n",
       "      <th>product_name</th>\n",
       "      <th>target_price</th>\n",
       "      <th>url</th>\n",
       "    </tr>\n",
       "  </thead>\n",
       "  <tbody>\n",
       "    <tr>\n",
       "      <th>0</th>\n",
       "      <td>Amazon</td>\n",
       "      <td>Fender Player Plus</td>\n",
       "      <td>Fender Player?Telecaster?Electric Guitar - Map...</td>\n",
       "      <td>1500.0</td>\n",
       "      <td>https://www.amazon.com/Fender-Player-Telecaste...</td>\n",
       "    </tr>\n",
       "    <tr>\n",
       "      <th>1</th>\n",
       "      <td>GuitarCenter</td>\n",
       "      <td>Fender Player Plus</td>\n",
       "      <td>Fender Player Plus Telecaster Maple Fingerboar...</td>\n",
       "      <td>900.4</td>\n",
       "      <td>https://www.guitarcenter.com/Fender/Player-Plu...</td>\n",
       "    </tr>\n",
       "    <tr>\n",
       "      <th>2</th>\n",
       "      <td>Thomann</td>\n",
       "      <td>Fender Player Plus</td>\n",
       "      <td>Fender Player Plus Strat Aged CAR</td>\n",
       "      <td>750.0</td>\n",
       "      <td>https://www.thomannmusic.com/fender_player_plu...</td>\n",
       "    </tr>\n",
       "    <tr>\n",
       "      <th>3</th>\n",
       "      <td>Gear4</td>\n",
       "      <td>Fender Player Plus</td>\n",
       "      <td>Fender Player Plus Telecaster MN, Aged Candy A...</td>\n",
       "      <td>750.0</td>\n",
       "      <td>https://www.gear4music.com/us/en/Guitar-and-Ba...</td>\n",
       "    </tr>\n",
       "    <tr>\n",
       "      <th>4</th>\n",
       "      <td>Amazon</td>\n",
       "      <td>PRS Santana Retro</td>\n",
       "      <td>PRS McCarty Singlecut 594 Figured Top - Black ...</td>\n",
       "      <td>3000.0</td>\n",
       "      <td>https://www.amazon.com/PRS-McCarty-Singlecut-5...</td>\n",
       "    </tr>\n",
       "  </tbody>\n",
       "</table>\n",
       "</div>"
      ],
      "text/plain": [
       "       platform            nickname  \\\n",
       "0        Amazon  Fender Player Plus   \n",
       "1  GuitarCenter  Fender Player Plus   \n",
       "2       Thomann  Fender Player Plus   \n",
       "3         Gear4  Fender Player Plus   \n",
       "4        Amazon   PRS Santana Retro   \n",
       "\n",
       "                                        product_name  target_price  \\\n",
       "0  Fender Player?Telecaster?Electric Guitar - Map...        1500.0   \n",
       "1  Fender Player Plus Telecaster Maple Fingerboar...         900.4   \n",
       "2                  Fender Player Plus Strat Aged CAR         750.0   \n",
       "3  Fender Player Plus Telecaster MN, Aged Candy A...         750.0   \n",
       "4  PRS McCarty Singlecut 594 Figured Top - Black ...        3000.0   \n",
       "\n",
       "                                                 url  \n",
       "0  https://www.amazon.com/Fender-Player-Telecaste...  \n",
       "1  https://www.guitarcenter.com/Fender/Player-Plu...  \n",
       "2  https://www.thomannmusic.com/fender_player_plu...  \n",
       "3  https://www.gear4music.com/us/en/Guitar-and-Ba...  \n",
       "4  https://www.amazon.com/PRS-McCarty-Singlecut-5...  "
      ]
     },
     "execution_count": 63,
     "metadata": {},
     "output_type": "execute_result"
    }
   ],
   "source": [
    "# Read master data about item, url, platform and url into data frame\n",
    "path = os.getcwd()\n",
    "my_df = pd.read_csv(f'{path}/master_Data.csv')\n",
    "my_df.head()"
   ]
  },
  {
   "cell_type": "code",
   "execution_count": 64,
   "metadata": {
    "pycharm": {
     "name": "#%%\n"
    }
   },
   "outputs": [
    {
     "data": {
      "text/html": [
       "<div>\n",
       "<style scoped>\n",
       "    .dataframe tbody tr th:only-of-type {\n",
       "        vertical-align: middle;\n",
       "    }\n",
       "\n",
       "    .dataframe tbody tr th {\n",
       "        vertical-align: top;\n",
       "    }\n",
       "\n",
       "    .dataframe thead th {\n",
       "        text-align: right;\n",
       "    }\n",
       "</style>\n",
       "<table border=\"1\" class=\"dataframe\">\n",
       "  <thead>\n",
       "    <tr style=\"text-align: right;\">\n",
       "      <th></th>\n",
       "      <th>platform</th>\n",
       "      <th>nickname</th>\n",
       "      <th>product_name</th>\n",
       "      <th>target_price</th>\n",
       "      <th>url</th>\n",
       "      <th>updated_price</th>\n",
       "      <th>updated_time</th>\n",
       "    </tr>\n",
       "  </thead>\n",
       "  <tbody>\n",
       "    <tr>\n",
       "      <th>0</th>\n",
       "      <td>Amazon</td>\n",
       "      <td>Fender Player Plus</td>\n",
       "      <td>Fender Player?Telecaster?Electric Guitar - Map...</td>\n",
       "      <td>1500.0</td>\n",
       "      <td>https://www.amazon.com/Fender-Player-Telecaste...</td>\n",
       "      <td>0.00</td>\n",
       "      <td>2022/12/13 20:30:06</td>\n",
       "    </tr>\n",
       "    <tr>\n",
       "      <th>1</th>\n",
       "      <td>GuitarCenter</td>\n",
       "      <td>Fender Player Plus</td>\n",
       "      <td>Fender Player Plus Telecaster Maple Fingerboar...</td>\n",
       "      <td>900.4</td>\n",
       "      <td>https://www.guitarcenter.com/Fender/Player-Plu...</td>\n",
       "      <td>1099.99</td>\n",
       "      <td>2022/12/13 20:30:06</td>\n",
       "    </tr>\n",
       "    <tr>\n",
       "      <th>2</th>\n",
       "      <td>Thomann</td>\n",
       "      <td>Fender Player Plus</td>\n",
       "      <td>Fender Player Plus Strat Aged CAR</td>\n",
       "      <td>750.0</td>\n",
       "      <td>https://www.thomannmusic.com/fender_player_plu...</td>\n",
       "      <td>839.00</td>\n",
       "      <td>2022/12/13 20:30:06</td>\n",
       "    </tr>\n",
       "    <tr>\n",
       "      <th>3</th>\n",
       "      <td>Gear4</td>\n",
       "      <td>Fender Player Plus</td>\n",
       "      <td>Fender Player Plus Telecaster MN, Aged Candy A...</td>\n",
       "      <td>750.0</td>\n",
       "      <td>https://www.gear4music.com/us/en/Guitar-and-Ba...</td>\n",
       "      <td>906.00</td>\n",
       "      <td>2022/12/13 20:30:06</td>\n",
       "    </tr>\n",
       "    <tr>\n",
       "      <th>4</th>\n",
       "      <td>Amazon</td>\n",
       "      <td>PRS Santana Retro</td>\n",
       "      <td>PRS McCarty Singlecut 594 Figured Top - Black ...</td>\n",
       "      <td>3000.0</td>\n",
       "      <td>https://www.amazon.com/PRS-McCarty-Singlecut-5...</td>\n",
       "      <td>0.00</td>\n",
       "      <td>2022/12/13 20:30:06</td>\n",
       "    </tr>\n",
       "  </tbody>\n",
       "</table>\n",
       "</div>"
      ],
      "text/plain": [
       "       platform            nickname  \\\n",
       "0        Amazon  Fender Player Plus   \n",
       "1  GuitarCenter  Fender Player Plus   \n",
       "2       Thomann  Fender Player Plus   \n",
       "3         Gear4  Fender Player Plus   \n",
       "4        Amazon   PRS Santana Retro   \n",
       "\n",
       "                                        product_name  target_price  \\\n",
       "0  Fender Player?Telecaster?Electric Guitar - Map...        1500.0   \n",
       "1  Fender Player Plus Telecaster Maple Fingerboar...         900.4   \n",
       "2                  Fender Player Plus Strat Aged CAR         750.0   \n",
       "3  Fender Player Plus Telecaster MN, Aged Candy A...         750.0   \n",
       "4  PRS McCarty Singlecut 594 Figured Top - Black ...        3000.0   \n",
       "\n",
       "                                                 url  updated_price  \\\n",
       "0  https://www.amazon.com/Fender-Player-Telecaste...           0.00   \n",
       "1  https://www.guitarcenter.com/Fender/Player-Plu...        1099.99   \n",
       "2  https://www.thomannmusic.com/fender_player_plu...         839.00   \n",
       "3  https://www.gear4music.com/us/en/Guitar-and-Ba...         906.00   \n",
       "4  https://www.amazon.com/PRS-McCarty-Singlecut-5...           0.00   \n",
       "\n",
       "          updated_time  \n",
       "0  2022/12/13 20:30:06  \n",
       "1  2022/12/13 20:30:06  \n",
       "2  2022/12/13 20:30:06  \n",
       "3  2022/12/13 20:30:06  \n",
       "4  2022/12/13 20:30:06  "
      ]
     },
     "execution_count": 64,
     "metadata": {},
     "output_type": "execute_result"
    }
   ],
   "source": [
    "# Apply get_price function to the data frame, and record the scrape time\n",
    "my_df[\"updated_price\"] = my_df.apply(get_price,axis = 1)\n",
    "my_df[\"updated_time\"] = datetime.now().strftime('%Y/%m/%d %H:%M:%S')\n",
    "my_df.head()"
   ]
  },
  {
   "cell_type": "code",
   "execution_count": 65,
   "metadata": {
    "pycharm": {
     "name": "#%%\n"
    }
   },
   "outputs": [],
   "source": [
    "# Put latest data underneath the exsiting data if they exist, and read in all of them\n",
    "try:\n",
    "    old_df = pd.read_csv(f'{path}/updated_product_price.csv')\n",
    "    df_list = [old_df,my_df]\n",
    "    merged_df = pd.concat(df_list, axis = 0)\n",
    "except FileNotFoundError:\n",
    "    merged_df = my_df\n",
    "merged_df.to_csv(f'{path}/updated_product_price.csv',index = False)\n",
    "merged_df = pd.read_csv(f'{path}/updated_product_price.csv')"
   ]
  },
  {
   "cell_type": "code",
   "execution_count": 66,
   "metadata": {
    "pycharm": {
     "name": "#%%\n"
    }
   },
   "outputs": [
    {
     "data": {
      "text/html": [
       "<div>\n",
       "<style scoped>\n",
       "    .dataframe tbody tr th:only-of-type {\n",
       "        vertical-align: middle;\n",
       "    }\n",
       "\n",
       "    .dataframe tbody tr th {\n",
       "        vertical-align: top;\n",
       "    }\n",
       "\n",
       "    .dataframe thead th {\n",
       "        text-align: right;\n",
       "    }\n",
       "</style>\n",
       "<table border=\"1\" class=\"dataframe\">\n",
       "  <thead>\n",
       "    <tr style=\"text-align: right;\">\n",
       "      <th></th>\n",
       "      <th>nickname</th>\n",
       "      <th>platform</th>\n",
       "      <th>target_price</th>\n",
       "      <th>updated_price</th>\n",
       "      <th>updated_time</th>\n",
       "    </tr>\n",
       "  </thead>\n",
       "  <tbody>\n",
       "    <tr>\n",
       "      <th>0</th>\n",
       "      <td>Fender Player Plus</td>\n",
       "      <td>Amazon</td>\n",
       "      <td>1500.0</td>\n",
       "      <td>0.0</td>\n",
       "      <td>2022/12/13 20:18:53</td>\n",
       "    </tr>\n",
       "    <tr>\n",
       "      <th>8</th>\n",
       "      <td>Fender Player Plus</td>\n",
       "      <td>Amazon</td>\n",
       "      <td>1500.0</td>\n",
       "      <td>0.0</td>\n",
       "      <td>2022/12/13 20:20:33</td>\n",
       "    </tr>\n",
       "    <tr>\n",
       "      <th>16</th>\n",
       "      <td>Fender Player Plus</td>\n",
       "      <td>Amazon</td>\n",
       "      <td>1500.0</td>\n",
       "      <td>0.0</td>\n",
       "      <td>2022/12/13 20:30:06</td>\n",
       "    </tr>\n",
       "    <tr>\n",
       "      <th>3</th>\n",
       "      <td>Fender Player Plus</td>\n",
       "      <td>Gear4</td>\n",
       "      <td>750.0</td>\n",
       "      <td>906.0</td>\n",
       "      <td>2022/12/13 20:18:53</td>\n",
       "    </tr>\n",
       "    <tr>\n",
       "      <th>11</th>\n",
       "      <td>Fender Player Plus</td>\n",
       "      <td>Gear4</td>\n",
       "      <td>750.0</td>\n",
       "      <td>906.0</td>\n",
       "      <td>2022/12/13 20:20:33</td>\n",
       "    </tr>\n",
       "  </tbody>\n",
       "</table>\n",
       "</div>"
      ],
      "text/plain": [
       "              nickname platform  target_price  updated_price  \\\n",
       "0   Fender Player Plus   Amazon        1500.0            0.0   \n",
       "8   Fender Player Plus   Amazon        1500.0            0.0   \n",
       "16  Fender Player Plus   Amazon        1500.0            0.0   \n",
       "3   Fender Player Plus    Gear4         750.0          906.0   \n",
       "11  Fender Player Plus    Gear4         750.0          906.0   \n",
       "\n",
       "           updated_time  \n",
       "0   2022/12/13 20:18:53  \n",
       "8   2022/12/13 20:20:33  \n",
       "16  2022/12/13 20:30:06  \n",
       "3   2022/12/13 20:18:53  \n",
       "11  2022/12/13 20:20:33  "
      ]
     },
     "execution_count": 66,
     "metadata": {},
     "output_type": "execute_result"
    }
   ],
   "source": [
    "# Check the updated data with 'updated_time' and 'updated price'\n",
    "# Sort the date by 'nickname' and 'platform'\n",
    "merged_df[['nickname','platform','target_price', 'updated_price','updated_time']].sort_values(by=['nickname','platform']).head()"
   ]
  },
  {
   "cell_type": "code",
   "execution_count": 67,
   "metadata": {
    "pycharm": {
     "name": "#%%\n"
    }
   },
   "outputs": [],
   "source": [
    "# Visualize above updated data with histgrams\n",
    "g=sns.catplot(x=\"platform\", y=\"updated_price\", hue=\"updated_time\", col=\"nickname\", data=merged_df, kind=\"bar\", palette='Blues')\n",
    "g.fig.set_size_inches(15, 8) # Set the chart size\n",
    "g.fig.subplots_adjust(top=0.9) # Set the top margin of chart\n",
    "g.fig.suptitle('Product Price Tracking', size=16) # Set the chart title and font size\n",
    "\n",
    "\n",
    "for ax in g.axes.ravel():\n",
    "    for c in ax.containers:\n",
    "        labels = [f'{(v.get_height()):.1f}' for v in c]\n",
    "        ax.bar_label(c, labels=labels, label_type='edge', size=6)\n",
    "    ax.margins(y=0.2) # Add values to each bar and set the font style"
   ]
  },
  {
   "cell_type": "code",
   "execution_count": 68,
   "metadata": {
    "pycharm": {
     "name": "#%%\n"
    }
   },
   "outputs": [
    {
     "data": {
      "text/plain": [
       "<seaborn.axisgrid.FacetGrid at 0x7f7e1c9fde80>"
      ]
     },
     "execution_count": 68,
     "metadata": {},
     "output_type": "execute_result"
    }
   ],
   "source": [
    "#Draw lineplot for each product-platform to track the price changing\n",
    "sns.set(style = \"white\")\n",
    "fmri = merged_df\n",
    "sns.relplot(x = \"updated_time\", y = \"updated_price\",col = 'nickname',kind = 'line', data = fmri)\n"
   ]
  },
  {
   "cell_type": "code",
   "execution_count": 69,
   "metadata": {
    "pycharm": {
     "name": "#%%\n"
    }
   },
   "outputs": [],
   "source": [
    "#Draw heatmap for each product to compare the price at different platform and different time\n",
    "for item in merged_df[\"nickname\"].unique():\n",
    "    item_history = merged_df[merged_df[\"nickname\"] == item]\n",
    "#     item_history.loc[:,\"updated_time\"] = pd.to_datetime(item_history.loc[:,\"updated_time\"])\n",
    "    pt = item_history.pivot_table(index = 'platform',columns = 'updated_time',values = 'updated_price',aggfunc = np.average)\n",
    "    f,(ax) = plt.subplots(figsize=(12,4))\n",
    "    sns.heatmap(pt,annot = True, ax = ax, fmt = 'g',annot_kws={'size':15},cmap='YlGnBu',linewidths=1)\n",
    "    ax.set_xlabel('Time')\n",
    "    ax.set_ylabel('Product')\n",
    "    ax.set_title(item)\n"
   ]
  },
  {
   "cell_type": "code",
   "execution_count": 70,
   "metadata": {
    "pycharm": {
     "name": "#%%\n"
    }
   },
   "outputs": [
    {
     "name": "stdout",
     "output_type": "stream",
     "text": [
      "Fender Player Plus from Amazon is now 0.0, 100% lower than your target price 1500.0.\n",
      "Click here to purchase https://www.amazon.com/Fender-Player-Telecaster-Electric-Guitar/dp/B07CXJSFTH/\n",
      "PRS Santana Retro from Amazon is now 0.0, 100% lower than your target price 3000.0.\n",
      "Click here to purchase https://www.amazon.com/PRS-McCarty-Singlecut-594-Figured/dp/B01N319MXL\n"
     ]
    }
   ],
   "source": [
    "# Collect items if their price drop below the target\n",
    "price_drop_list_url = []\n",
    "price_drop_message = []\n",
    "\n",
    "# Check the latest scrape result to find items price drop below the target\n",
    "for row in my_df.iterrows():\n",
    "\n",
    "    product_url = row[1]['url']\n",
    "    target_price = row[1]['target_price']\n",
    "    nickname = row[1]['nickname']\n",
    "    platform = row[1]['platform']\n",
    "    updated_price = row[1]['updated_price']\n",
    "\n",
    "    if updated_price < target_price:\n",
    "        change_percentage = round((target_price - updated_price) * 100 / target_price) #checking if what percentage of price changed\n",
    "        # Format a message with shopping url and latest price if the price drop below the target\n",
    "        item_message = '{}'.format(nickname) + ' from {}'.format(platform) + ' is now {}'.format(updated_price) + ', {}'.format(change_percentage) + '% lower than your target price {}'.format(target_price) +\".\"+ \"\\n\" + 'Click here to purchase ' + format(product_url)\n",
    "        price_drop_list_url.append(row[1]['url'])\n",
    "        price_drop_message.append(item_message)\n",
    "        print(item_message)"
   ]
  },
  {
   "cell_type": "code",
   "execution_count": 71,
   "metadata": {
    "pycharm": {
     "name": "#%%\n"
    }
   },
   "outputs": [],
   "source": [
    "# Format the header of SMS\n",
    "messege = \"There is {}\".format(len(price_drop_list_url)) + \" products lower than target prices.\"#sms content"
   ]
  },
  {
   "cell_type": "code",
   "execution_count": 72,
   "metadata": {
    "pycharm": {
     "name": "#%%\n"
    }
   },
   "outputs": [
    {
     "name": "stdout",
     "output_type": "stream",
     "text": [
      "Price drop found\n"
     ]
    }
   ],
   "source": [
    "if len(price_drop_list_url) == 0: #if no price changes found \n",
    "    print('No Price drop found')\n",
    "    \n",
    "else:\n",
    "    # Put every drop message behind the header and sent\n",
    "    for item_message in price_drop_message:\n",
    "        messege = messege + \"\\n\" + item_message\n",
    "\n",
    "    account_sid = 'ACdec2e0c430fcf690040b958411d5dbb2'\n",
    "    auth_token = '00fe5a955299874ab5ef65d0879f64c0'\n",
    "\n",
    "    client = Client(account_sid, auth_token)\n",
    "    message = client.messages.create(\n",
    "        from_ ='+1000000000',\n",
    "        body = messege,\n",
    "        to ='+100000000'\n",
    "    )\n",
    "    print('Price drop found')"
   ]
  }
 ],
 "metadata": {
  "colab": {
   "name": "Amazon_price_tracker.ipynb",
   "provenance": []
  },
  "kernelspec": {
   "display_name": "Python 3 (ipykernel)",
   "language": "python",
   "name": "python3"
  },
  "language_info": {
   "codemirror_mode": {
    "name": "ipython",
    "version": 3
   },
   "file_extension": ".py",
   "mimetype": "text/x-python",
   "name": "python",
   "nbconvert_exporter": "python",
   "pygments_lexer": "ipython3",
   "version": "3.9.13"
  },
  "vscode": {
   "interpreter": {
    "hash": "beb364095454df8d8544dd9127e882a73c1a355bfe5de105ef8806a4bee4e3fa"
   }
  }
 },
 "nbformat": 4,
 "nbformat_minor": 1
}
